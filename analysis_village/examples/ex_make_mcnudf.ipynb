{
 "cells": [
  {
   "cell_type": "code",
   "execution_count": null,
   "metadata": {},
   "outputs": [],
   "source": [
    "## -- This notebook is for tasting output df structure using a flatcaf root file\n",
    "#!/usr/bin/env python3 \n",
    "import sys\n",
    "import os\n",
    "import pandas as pd\n",
    "import uproot\n",
    "import warnings\n",
    "\n",
    "# Add the head direcoty to sys.path\n",
    "workspace_root = os.getcwd()  \n",
    "sys.path.insert(0, workspace_root + \"/../../\")\n",
    "\n",
    "# import this repo's classes\n",
    "from pyanalib.ntuple_glob import NTupleGlob\n",
    "import pyanalib.pandas_helpers as ph\n",
    "import makedf.branches as br\n",
    "from makedf.makedf import make_mcdf\n"
   ]
  },
  {
   "cell_type": "code",
   "execution_count": null,
   "metadata": {},
   "outputs": [],
   "source": [
    "test_sample_path = \"root://fndcadoor.fnal.gov:1094/pnfs/fnal.gov/usr/sbn/data_add/sbn_nd/poms_production/official/MCP2025A/v10_04_01/prodoverlay_corsika_cosmics_proton_genie_intrnue_spill_tpc_sbnd/MCP2025A/caf/54/ee/caf.flat.caf-15338f42-28b6-4df4-8ac4-be171a69dbcd.root\"\n",
    "f = uproot.open(test_sample_path, timeout=120)"
   ]
  },
  {
   "cell_type": "code",
   "execution_count": null,
   "metadata": {},
   "outputs": [],
   "source": [
    "test_mc_df = make_mcdf(f)"
   ]
  },
  {
   "cell_type": "code",
   "execution_count": null,
   "metadata": {},
   "outputs": [],
   "source": [
    "test_mc_df.columns"
   ]
  },
  {
   "cell_type": "code",
   "execution_count": null,
   "metadata": {},
   "outputs": [],
   "source": [
    "test_mc_df"
   ]
  },
  {
   "cell_type": "code",
   "execution_count": null,
   "metadata": {},
   "outputs": [],
   "source": [
    "print(test_mc_df.npi_50MeV.head(50))"
   ]
  }
 ],
 "metadata": {
  "kernelspec": {
   "display_name": "venv_py39_cafpyana",
   "language": "python",
   "name": "python3"
  },
  "language_info": {
   "codemirror_mode": {
    "name": "ipython",
    "version": 3
   },
   "file_extension": ".py",
   "mimetype": "text/x-python",
   "name": "python",
   "nbconvert_exporter": "python",
   "pygments_lexer": "ipython3",
   "version": "3.9.15"
  }
 },
 "nbformat": 4,
 "nbformat_minor": 2
}
