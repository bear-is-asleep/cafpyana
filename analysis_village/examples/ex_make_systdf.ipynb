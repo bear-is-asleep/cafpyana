{
 "cells": [
  {
   "cell_type": "code",
   "execution_count": null,
   "metadata": {},
   "outputs": [],
   "source": [
    "## -- This notebook is for understanding systematics data frame makers\n",
    "#!/usr/bin/env python3 \n",
    "import sys\n",
    "import os\n",
    "import pandas as pd\n",
    "import uproot\n",
    "import warnings\n",
    "\n",
    "# Add the head direcoty to sys.path\n",
    "workspace_root = os.getcwd()  \n",
    "sys.path.insert(0, workspace_root + \"/../../\")\n",
    "\n",
    "# import this repo's classes\n",
    "from pyanalib.ntuple_glob import NTupleGlob\n",
    "import pyanalib.pandas_helpers as ph\n",
    "import makedf.branches as br\n",
    "from makedf.makedf import *\n",
    "from makedf.geniesyst import *\n",
    "from makedf.getsyst import *\n"
   ]
  },
  {
   "cell_type": "code",
   "execution_count": null,
   "metadata": {},
   "outputs": [],
   "source": [
    "test_sample_path = \"root://fndca1.fnal.gov:1094/pnfs/fnal.gov/usr/sbnd/persistent/users/sungbino/tutorials/pycafana/prodgenie_cosmic_rockbox_sbnd_GenieGen-20250221T050016_G4-20250221T050844_1ffa1ec6-96f0-473c-918a-be174a12deb2__DetSim2-20250305T012350_Reco1-20250305T074914_Reco2-20250306T170024.flat.caf.root\"\n",
    "f = uproot.open(test_sample_path, timeout=120)"
   ]
  },
  {
   "cell_type": "code",
   "execution_count": null,
   "metadata": {},
   "outputs": [],
   "source": [
    "mcdf = make_mcdf(f)\n",
    "mcdf[\"ind\"] = mcdf.index.get_level_values(1)\n",
    "nuind = mcdf.ind"
   ]
  },
  {
   "cell_type": "code",
   "execution_count": null,
   "metadata": {},
   "outputs": [],
   "source": [
    "nuind.value_counts()"
   ]
  },
  {
   "cell_type": "code",
   "execution_count": null,
   "metadata": {},
   "outputs": [],
   "source": [
    "syst_branches = [\"wgts.name\", \"wgts.type\", \"wgts.nuniv\"]"
   ]
  },
  {
   "cell_type": "code",
   "execution_count": null,
   "metadata": {},
   "outputs": [],
   "source": [
    "systdf = loadbranches(f[\"globalTree/global/wgts\"], syst_branches)"
   ]
  },
  {
   "cell_type": "code",
   "execution_count": null,
   "metadata": {},
   "outputs": [],
   "source": [
    "systdf"
   ]
  },
  {
   "cell_type": "code",
   "execution_count": null,
   "metadata": {},
   "outputs": [],
   "source": [
    "systdf = systdf.reset_index().drop(columns =['entry', 'subentry'])\n",
    "systdf = systdf.wgts"
   ]
  },
  {
   "cell_type": "code",
   "execution_count": null,
   "metadata": {},
   "outputs": [],
   "source": [
    "print(systdf.head(60))"
   ]
  },
  {
   "cell_type": "code",
   "execution_count": null,
   "metadata": {},
   "outputs": [],
   "source": [
    "systdf[(systdf['type']==3) & (systdf['nuniv']==1)]"
   ]
  },
  {
   "cell_type": "code",
   "execution_count": null,
   "metadata": {},
   "outputs": [],
   "source": [
    "nuniv = systdf.nuniv.sum()\n",
    "print(nuniv)"
   ]
  },
  {
   "cell_type": "code",
   "execution_count": null,
   "metadata": {},
   "outputs": [],
   "source": [
    "wgtdf = loadbranches(f[\"recTree\"], [\"rec.mc.nu.wgt.univ\"]).rec.mc.nu.wgt\n",
    "wgtdf = wgtdf.rename(columns={\"univ\": \"wgt\"})"
   ]
  },
  {
   "cell_type": "code",
   "execution_count": null,
   "metadata": {},
   "outputs": [],
   "source": [
    "wgtdf.head(50)"
   ]
  },
  {
   "cell_type": "code",
   "execution_count": null,
   "metadata": {},
   "outputs": [],
   "source": [
    "wgtdf = wgtdf.rename_axis(['entry', 'rec.mc.nu..index', 'isyst', 'iuniv'])"
   ]
  },
  {
   "cell_type": "code",
   "execution_count": null,
   "metadata": {},
   "outputs": [],
   "source": [
    "wgtdf = wgtdf.reset_index().set_index(['entry', 'rec.mc.nu..index'])"
   ]
  },
  {
   "cell_type": "code",
   "execution_count": null,
   "metadata": {},
   "outputs": [],
   "source": [
    "wgtdf"
   ]
  },
  {
   "cell_type": "code",
   "execution_count": null,
   "metadata": {},
   "outputs": [],
   "source": [
    "systs = []\n",
    "for s in regen_systematics_sbnd:\n",
    "    try:\n",
    "        isyst = systdf.index[systdf['name'] == s][0]\n",
    "    except IndexError:\n",
    "        continue\n",
    "    this_systs = []\n",
    "\n",
    "    if systdf.type[isyst] == 3 and systdf.nuniv[isyst] == 1: # morph unisim                                                                                                                                \n",
    "        s_morph = wgtdf[wgtdf.isyst == isyst].wgt.groupby(level=[0,1]).agg(lambda x: list(x))\n",
    "        s_morph.name = (s)\n",
    "        this_systs.append(s_morph)\n",
    "\n",
    "    elif systdf.type[isyst] == 3 and systdf.nuniv[isyst] > 1: # +/- sigma unisim                                                                                                                           \n",
    "        def insert_middle(lst, value):\n",
    "            mid = len(lst) // 2\n",
    "            return lst[:mid] + [value] + lst[mid:]\n",
    "\n",
    "        s_nsigma = wgtdf[wgtdf.isyst == isyst].wgt.groupby(level=[0,1]).agg(\n",
    "            lambda x: insert_middle(list(x), 1.)\n",
    "        )   \n",
    "        #s_nsigma = wgtdf[wgtdf.isyst == isyst].wgt.groupby(level=[0,1]).agg(lambda x: list(x))\n",
    "        s_nsigma.name = (s)\n",
    "        this_systs.append(s_nsigma)\n",
    "\n",
    "    elif systdf.type[isyst] == 0: # multisim                                                                                                                                                               \n",
    "        s_multisim = wgtdf[wgtdf.isyst == isyst].wgt.groupby(level=[0,1]).agg(lambda x: list(x)).head(250) # limit to 250 universes                                                                        \n",
    "        s_multisim.name = (s)\n",
    "        this_systs.append(s_multisim)\n",
    "\n",
    "    else:\n",
    "        raise Exception(\"Cannot decode systematic uncertainty: %s\" % s)\n",
    "\n",
    "    for syst in this_systs:\n",
    "        systs.append(syst)\n",
    "\n",
    "systs = pd.DataFrame(systs).T"
   ]
  },
  {
   "cell_type": "code",
   "execution_count": null,
   "metadata": {},
   "outputs": [],
   "source": [
    "for idx, row in systs.GENIEReWeight_SBN_v1_multisigma_RPA_CCQE.loc[systs.index.get_level_values('entry') == 92].items():\n",
    "    print(f\"{idx}: {row}\")"
   ]
  },
  {
   "cell_type": "code",
   "execution_count": null,
   "metadata": {},
   "outputs": [],
   "source": [
    "systs"
   ]
  },
  {
   "cell_type": "code",
   "execution_count": null,
   "metadata": {},
   "outputs": [],
   "source": [
    "systs.columns"
   ]
  },
  {
   "cell_type": "code",
   "execution_count": null,
   "metadata": {},
   "outputs": [],
   "source": [
    "systs.columns = pd.MultiIndex.from_tuples([(col, '', '') for col in systs.columns])"
   ]
  },
  {
   "cell_type": "code",
   "execution_count": null,
   "metadata": {},
   "outputs": [],
   "source": [
    "systs"
   ]
  },
  {
   "cell_type": "code",
   "execution_count": null,
   "metadata": {},
   "outputs": [],
   "source": [
    "mcdf"
   ]
  },
  {
   "cell_type": "code",
   "execution_count": null,
   "metadata": {},
   "outputs": [],
   "source": [
    "mcnuconcatdf = pd.concat([mcdf, systs], axis=1, verify_integrity=True)"
   ]
  },
  {
   "cell_type": "code",
   "execution_count": null,
   "metadata": {},
   "outputs": [],
   "source": [
    "mcnuconcatdf"
   ]
  }
 ],
 "metadata": {
  "kernelspec": {
   "display_name": "venv_py39_cafpyana",
   "language": "python",
   "name": "python3"
  },
  "language_info": {
   "codemirror_mode": {
    "name": "ipython",
    "version": 3
   },
   "file_extension": ".py",
   "mimetype": "text/x-python",
   "name": "python",
   "nbconvert_exporter": "python",
   "pygments_lexer": "ipython3",
   "version": "3.9.15"
  }
 },
 "nbformat": 4,
 "nbformat_minor": 2
}
