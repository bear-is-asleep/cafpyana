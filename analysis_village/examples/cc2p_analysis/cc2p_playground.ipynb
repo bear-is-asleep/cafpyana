{
 "cells": [
  {
   "cell_type": "code",
   "execution_count": 1,
   "id": "aa5351be",
   "metadata": {},
   "outputs": [
    {
     "name": "stdout",
     "output_type": "stream",
     "text": [
      "DUNE plot style enabled\n"
     ]
    },
    {
     "data": {
      "text/plain": [
       "{'divide': 'warn', 'over': 'warn', 'under': 'ignore', 'invalid': 'warn'}"
      ]
     },
     "execution_count": 1,
     "metadata": {},
     "output_type": "execute_result"
    }
   ],
   "source": [
    "import os\n",
    "\n",
    "import numpy as np\n",
    "import math\n",
    "import uproot as uproot\n",
    "import pandas as pd\n",
    "\n",
    "import matplotlib.pyplot as plt\n",
    "import matplotlib.colors\n",
    "from matplotlib.colors import LinearSegmentedColormap\n",
    "from matplotlib import ticker\n",
    "from matplotlib.ticker import (AutoMinorLocator, MultipleLocator)\n",
    "from matplotlib import gridspec\n",
    "import dunestyle.matplotlib as dunestyle\n",
    "\n",
    "import scipy.stats as stats\n",
    "from scipy.stats import norm\n",
    "from scipy.stats import median_abs_deviation\n",
    "from scipy.interpolate import CubicSpline\n",
    "from scipy.optimize import curve_fit\n",
    "import scipy.linalg as la\n",
    "import scipy.optimize as opt\n",
    "from scipy.optimize import Bounds, LinearConstraint\n",
    "from scipy.stats import chisquare\n",
    "\n",
    "import pandas_helpers as ph\n",
    "import cc2p_reco_var as cc2preco\n",
    "import stat_helpers as sh\n",
    "\n",
    "np.seterr(divide='ignore', invalid='ignore', over='ignore')"
   ]
  },
  {
   "cell_type": "code",
   "execution_count": 2,
   "id": "40df215e",
   "metadata": {},
   "outputs": [],
   "source": [
    "## -- for MC spring 25, Moon processed CAF without SCE correction\n",
    "#### ==== but measured c_cal of the sample is 2.019e-2\n",
    "\n",
    "## Afro\n",
    "mc_file = \"/exp/sbnd/data/users/apapadop/dfs/v10_06_00_02/mc_MCP2025B_5e18_02_prodgenie_corsika_proton_rockbox_sbnd_CV_caf_flat_caf_sbnd_100files.df\"\n",
    "## Sungbin\n",
    "#mc_file = \"/exp/sbnd/data/users/apapadop/dfs/v10_06_00_02/2025B_final_valid_v_10_06_00_02_mc_bnb_cosmics_pandora.df\"\n",
    "mc_hdr_df = pd.read_hdf(mc_file, key='hdr')\n",
    "mc_pot_df = pd.read_hdf(mc_file, key='pot')\n",
    "mc_reco_df_ = pd.read_hdf(mc_file, key='evt')\n",
    "mc_nudf_ = pd.read_hdf(mc_file, key='mcnu')\n",
    "mc_primdf = pd.read_hdf(mc_file, key='mcprim')"
   ]
  },
  {
   "cell_type": "code",
   "execution_count": 3,
   "id": "991bf09a",
   "metadata": {},
   "outputs": [
    {
     "name": "stdout",
     "output_type": "stream",
     "text": [
      "MultiIndex([( 2,  3, 1, 2),\n",
      "            (13, 15, 1, 2),\n",
      "            (13, 16, 0, 3),\n",
      "            (18, 12, 1, 3),\n",
      "            (37, 26, 0, 2),\n",
      "            (41,  9, 1, 4),\n",
      "            (41,  9, 1, 5),\n",
      "            (48,  9, 0, 1),\n",
      "            (48,  9, 0, 4),\n",
      "            (54,  4, 1, 2),\n",
      "            (64, 13, 1, 2),\n",
      "            (71,  2, 1, 3),\n",
      "            (83,  0, 1, 3),\n",
      "            (87, 18, 0, 2),\n",
      "            (92,  8, 0, 3),\n",
      "            (92,  8, 0, 4),\n",
      "            (96, 20, 1, 2),\n",
      "            (98,  4, 0, 2)],\n",
      "           names=['__ntuple', 'entry', 'rec.mc.nu..index', 'rec.mc.nu.prim..index'])\n",
      "17395\n"
     ]
    }
   ],
   "source": [
    "#print(mc_primdf.rec.mc.nu.prim.pdg)\n",
    "mask = np.abs(mc_primdf.rec.mc.nu.prim.pdg) == 321\n",
    "mc_nu_kaon_df = mc_primdf[mask]\n",
    "indices = mc_nu_kaon_df.index\n",
    "print(indices)\n",
    "\n",
    "print(len(mc_primdf))"
   ]
  },
  {
   "cell_type": "code",
   "execution_count": 4,
   "id": "8bac2898",
   "metadata": {},
   "outputs": [
    {
     "name": "stderr",
     "output_type": "stream",
     "text": [
      "/exp/sbnd/app/users/apapadop/cafpyana/analysis_village/examples/cc2p_analysis/pandas_helpers.py:85: PerformanceWarning: indexing past lexsort depth may impact performance.\n",
      "  return lhs.merge(rhs, **panda_kwargs)\n"
     ]
    }
   ],
   "source": [
    "#print(mc_hdr_df.keys())\n",
    "#print(len(mc_hdr_df))\n",
    "\n",
    "mc_nu_kaon_df = ph.multicol_merge(mc_nu_kaon_df.reset_index(), mc_hdr_df.reset_index(),\n",
    "        left_on=[('__ntuple', '', ''), ('entry', '', '')],\n",
    "        right_on=[('__ntuple', '', ''), ('entry', '', '')],\n",
    "        how='left'\n",
    "    )"
   ]
  },
  {
   "cell_type": "code",
   "execution_count": 5,
   "id": "d47e581d",
   "metadata": {},
   "outputs": [
    {
     "name": "stdout",
     "output_type": "stream",
     "text": [
      "MultiIndex([('mc', 'nu', 'prim',   'genE',  ''),\n",
      "            ('mc', 'nu', 'prim', 'length',  ''),\n",
      "            ('mc', 'nu', 'prim',    'pdg',  ''),\n",
      "            ('mc', 'nu', 'prim',   'genp', 'x'),\n",
      "            ('mc', 'nu', 'prim',   'genp', 'y'),\n",
      "            ('mc', 'nu', 'prim',   'genp', 'z'),\n",
      "            ('mc', 'nu', 'prim',  'start', 'x'),\n",
      "            ('mc', 'nu', 'prim',  'start', 'y'),\n",
      "            ('mc', 'nu', 'prim',  'start', 'z'),\n",
      "            ('mc', 'nu', 'prim',    'end', 'x'),\n",
      "            ('mc', 'nu', 'prim',    'end', 'y'),\n",
      "            ('mc', 'nu', 'prim',    'end', 'z')],\n",
      "           )\n"
     ]
    }
   ],
   "source": [
    "print(mc_nu_kaon_df.rec.keys())"
   ]
  }
 ],
 "metadata": {
  "kernelspec": {
   "display_name": "venv_py39_cafpyana",
   "language": "python",
   "name": "python3"
  },
  "language_info": {
   "codemirror_mode": {
    "name": "ipython",
    "version": 3
   },
   "file_extension": ".py",
   "mimetype": "text/x-python",
   "name": "python",
   "nbconvert_exporter": "python",
   "pygments_lexer": "ipython3",
   "version": "3.9.15"
  }
 },
 "nbformat": 4,
 "nbformat_minor": 5
}
