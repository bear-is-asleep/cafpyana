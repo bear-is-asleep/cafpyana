{
 "cells": [
  {
   "cell_type": "code",
   "execution_count": null,
   "metadata": {},
   "outputs": [],
   "source": [
    "## In this test, we will study how to make flat ntuple out of cohpidf as an input for GUNDAM for fit\n",
    "\n",
    "import os\n",
    "import sys\n",
    "\n",
    "import numpy as np\n",
    "import math\n",
    "import uproot as uproot\n",
    "import pickle\n",
    "import pandas as pd\n",
    "import awkward as ak\n",
    "\n",
    "import matplotlib.pyplot as plt\n",
    "import matplotlib.colors\n",
    "from matplotlib.colors import LinearSegmentedColormap\n",
    "from matplotlib import ticker\n",
    "from matplotlib.ticker import (AutoMinorLocator, MultipleLocator)\n",
    "from matplotlib import gridspec\n",
    "\n",
    "# Add the head direcoty to sys.path\n",
    "workspace_root = os.getcwd()  \n",
    "sys.path.insert(0, workspace_root + \"/../../../\")\n",
    "#sys.path.insert(0, \"/cvmfs/larsoft.opensciencegrid.org/spack-packages/opt/spack/linux-almalinux9-x86_64_v2/gcc-12.2.0/root-6.28.06-jhpj2jsdlwoxbvpnwmxvzkntrxcgw5of/lib/root\")\n",
    "\n",
    "# import this repo's classes\n",
    "import pyanalib.pandas_helpers as ph\n",
    "\n",
    "\n"
   ]
  },
  {
   "cell_type": "code",
   "execution_count": null,
   "metadata": {},
   "outputs": [],
   "source": [
    "## 1. Open each df\n",
    "venv_path = os.getenv(\"PATH\")\n",
    "input_df_path = \"/exp/sbnd/data/users/sungbino/sbnd_samples/cafpyana_outputs/cohpi_df_mcweight_test.df\"\n",
    "with pd.HDFStore(input_df_path) as store:\n",
    "    print(store.keys())"
   ]
  },
  {
   "cell_type": "code",
   "execution_count": null,
   "metadata": {},
   "outputs": [],
   "source": [
    "cohpidf = pd.read_hdf(input_df_path, key='cohpi')\n",
    "hdrdf = pd.read_hdf(input_df_path, key='hdr')\n",
    "mcnuwgtdf = pd.read_hdf(input_df_path, key='mcnuwgt')"
   ]
  },
  {
   "cell_type": "code",
   "execution_count": null,
   "metadata": {},
   "outputs": [],
   "source": [
    "## Collect POT and scale factor to the target POT\n",
    "this_pot = sum(hdrdf.pot)\n",
    "print(this_pot)\n",
    "target_POT = 3.0e18\n",
    "POT_scale = target_POT / this_pot\n",
    "print(POT_scale)"
   ]
  },
  {
   "cell_type": "code",
   "execution_count": null,
   "metadata": {},
   "outputs": [],
   "source": [
    "## Make a df that matches mcnudf to slc\n",
    "matchdf = ph.multicol_merge(cohpidf.reset_index(), mcnuwgtdf.reset_index(),\n",
    "                            left_on=[(\"entry\", \"\",\"\"), (\"rec\", \"slc\",\"tmatch\", \"idx\")],\n",
    "                            right_on=[(\"entry\", \"\",\"\"), (\"rec.mc.nu..index\", \"\",\"\")], \n",
    "                            how=\"left\") ## -- save all sllices"
   ]
  },
  {
   "cell_type": "code",
   "execution_count": null,
   "metadata": {},
   "outputs": [],
   "source": [
    "matchdf.GENIEReWeight_SBN_v1_multisigma_NonRESBGvbarnCC1pi\t"
   ]
  },
  {
   "cell_type": "code",
   "execution_count": null,
   "metadata": {},
   "outputs": [],
   "source": [
    "matchdf.columns"
   ]
  },
  {
   "cell_type": "code",
   "execution_count": null,
   "metadata": {},
   "outputs": [],
   "source": [
    "matchdf.columns = ['.'.join(str(part) for part in col if part) for col in matchdf.columns]"
   ]
  },
  {
   "cell_type": "code",
   "execution_count": null,
   "metadata": {},
   "outputs": [],
   "source": [
    "matchdf"
   ]
  },
  {
   "cell_type": "code",
   "execution_count": null,
   "metadata": {},
   "outputs": [],
   "source": [
    "for col in matchdf.columns:\n",
    "    if col.startswith(\"GENIEReWeight\"):\n",
    "        series = matchdf[col]\n",
    "        first_valid = series.dropna().iloc[0]\n",
    "        fill_value = [1.0] * len(first_valid)\n",
    "        matchdf[col] = matchdf[col].apply(lambda x: x if isinstance(x, list) else fill_value)"
   ]
  },
  {
   "cell_type": "code",
   "execution_count": null,
   "metadata": {},
   "outputs": [],
   "source": [
    "matchdf"
   ]
  },
  {
   "cell_type": "code",
   "execution_count": null,
   "metadata": {},
   "outputs": [],
   "source": [
    "mcnuwgtdf"
   ]
  },
  {
   "cell_type": "code",
   "execution_count": null,
   "metadata": {},
   "outputs": [],
   "source": [
    "mcnuwgtdf.columns = ['.'.join(str(part) for part in col if part) for col in mcnuwgtdf.columns]"
   ]
  },
  {
   "cell_type": "code",
   "execution_count": null,
   "metadata": {},
   "outputs": [],
   "source": [
    "mcnuwgtdf = mcnuwgtdf.reset_index()"
   ]
  },
  {
   "cell_type": "code",
   "execution_count": null,
   "metadata": {},
   "outputs": [],
   "source": [
    "mcnuwgtdf"
   ]
  },
  {
   "cell_type": "code",
   "execution_count": null,
   "metadata": {},
   "outputs": [],
   "source": [
    "for col in mcnuwgtdf.columns:\n",
    "    if col.startswith(\"GENIEReWeight\"):\n",
    "        series = mcnuwgtdf[col]\n",
    "        first_valid = series.dropna().iloc[0]\n",
    "        fill_value = [1.0] * len(first_valid)\n",
    "        mcnuwgtdf[col] = mcnuwgtdf[col].apply(lambda x: x if isinstance(x, list) else fill_value)"
   ]
  },
  {
   "cell_type": "code",
   "execution_count": null,
   "metadata": {},
   "outputs": [],
   "source": [
    "## Make TTree of matchdf\n",
    "#ak_array = ak.Array(matchdf.to_dict(orient=\"list\"))\n"
   ]
  },
  {
   "cell_type": "code",
   "execution_count": null,
   "metadata": {},
   "outputs": [],
   "source": [
    "with uproot.recreate(\"gundam_output_test.root\") as f:\n",
    "    f[\"matched\"] = matchdf\n",
    "    f[\"mcnu\"] = mcnuwgtdf"
   ]
  }
 ],
 "metadata": {
  "kernelspec": {
   "display_name": "venv_py39_cafpyana",
   "language": "python",
   "name": "python3"
  },
  "language_info": {
   "codemirror_mode": {
    "name": "ipython",
    "version": 3
   },
   "file_extension": ".py",
   "mimetype": "text/x-python",
   "name": "python",
   "nbconvert_exporter": "python",
   "pygments_lexer": "ipython3",
   "version": "3.9.15"
  }
 },
 "nbformat": 4,
 "nbformat_minor": 2
}
