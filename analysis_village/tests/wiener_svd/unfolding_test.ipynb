{
 "cells": [
  {
   "cell_type": "code",
   "execution_count": null,
   "metadata": {},
   "outputs": [],
   "source": [
    "import pandas as pd\n",
    "import numpy as np\n",
    "import matplotlib.pyplot as plt \n",
    "from os import path\n",
    "from wienersvd import *"
   ]
  },
  {
   "cell_type": "code",
   "execution_count": 4,
   "metadata": {},
   "outputs": [],
   "source": [
    "basepath = \"/scratch/7DayLifetime/munjung/xsec/2025B\""
   ]
  },
  {
   "cell_type": "code",
   "execution_count": null,
   "metadata": {},
   "outputs": [],
   "source": [
    "# BNB-light data\n",
    "fname = \"DevData-elifetime35ms-wpot.df\"\n",
    "bnbdata_bnbpot = pd.read_hdf(path.join(basepath, fname), \"bnbpot\")\n",
    "bnbdata = pd.read_hdf(path.join(basepath, fname), \"evt\")\n",
    "bnbdata_pot = bnbdata_bnbpot[\"TOR875\"].sum()\n",
    "print(\"BNB+light data pot: {:.2e}\".format(bnbdata_pot))\n",
    "\n",
    "fname = \"MC_bnbcosmics.df\"\n",
    "bnbmc_hdr = pd.read_hdf(path.join(basepath, fname), \"hdr\")\n",
    "bnbmc = pd.read_hdf(path.join(basepath, fname), \"evt\")\n",
    "\n",
    "goal_pot = bnbdata_pot\n",
    "mc_pot = bnbmc_hdr[bnbmc_hdr.first_in_subrun == 1].pot.sum()\n",
    "goal_scale = goal_pot/mc_pot\n",
    "print(\"goal scale: {:.2f}\".format(goal_scale))\n",
    "bnbmc[\"pot_weight\"] = goal_scale * np.ones(len(bnbmc))"
   ]
  },
  {
   "cell_type": "code",
   "execution_count": 6,
   "metadata": {},
   "outputs": [],
   "source": [
    "# additional cuts?\n",
    "twoprong_cut = (np.isnan(bnbmc.other_shw_length) & np.isnan(bnbmc.other_trk_length))\n",
    "bnbmc = bnbmc[twoprong_cut]\n",
    "\n",
    "twoprong_cut = (np.isnan(bnbdata.other_shw_length) & np.isnan(bnbdata.other_trk_length))\n",
    "bnbdata = bnbdata[twoprong_cut]"
   ]
  },
  {
   "cell_type": "markdown",
   "metadata": {},
   "source": [
    "# Event rates"
   ]
  },
  {
   "cell_type": "code",
   "execution_count": null,
   "metadata": {},
   "outputs": [],
   "source": [
    "bins = np.linspace(0.2, 2, 21)\n",
    "var_data = bnbdata.mu.pfp.trk.P.p_muon\n",
    "var_mc = bnbmc.mu.pfp.trk.P.p_muon\n",
    "\n",
    "Measure, _, _ = plt.hist(var_data, bins=bins, histtype=\"step\", label=\"Data\")\n",
    "Signal, _, _ = plt.hist(var_mc, bins=bins, weights=bnbmc.pot_weight, histtype=\"step\", label=\"MC\")\n",
    "plt.legend()\n",
    "plt.show()"
   ]
  },
  {
   "cell_type": "markdown",
   "metadata": {},
   "source": [
    "# Response"
   ]
  },
  {
   "cell_type": "code",
   "execution_count": null,
   "metadata": {},
   "outputs": [],
   "source": [
    "bnbmc[\"truth_totp\"] = np.sqrt(bnbmc.mu.pfp.trk.truth.p.genp.x**2 + bnbmc.mu.pfp.trk.truth.p.genp.y**2 + bnbmc.mu.pfp.trk.truth.p.genp.z**2)\n",
    "n, bins, _ = np.histogram2d(bnbmc.truth_totp, bnbmc.mu.pfp.trk.P.p_muon, bins=bins)\n",
    "\n",
    "eff = 1\n",
    "Response = eff * n.T/n.T.sum(axis=0)\n",
    "plt.imshow(Response, origin=\"lower\")\n",
    "plt.colorbar()\n",
    "plt.show();"
   ]
  },
  {
   "cell_type": "markdown",
   "metadata": {},
   "source": [
    "# Covariance"
   ]
  },
  {
   "cell_type": "code",
   "execution_count": null,
   "metadata": {},
   "outputs": [],
   "source": [
    "# flux\n",
    "var = bnbmc.mu.pfp.trk.P.p_muon\n",
    "bin_centers = (bins[:-1] + bins[1:])/2\n",
    "univ_events = []\n",
    "fluxsyst = bnbmc[\"Flux\"]\n",
    "for uidx in range(len(fluxsyst.columns)):\n",
    "    weights = fluxsyst[\"univ_\"+str(uidx)].copy()\n",
    "    weights[np.isnan(weights)] = 1\n",
    "    n, bins, _ = plt.hist(var, bins=bins, weights=weights, histtype=\"step\", color=\"gray\")\n",
    "    univ_events.append(n)\n",
    "plt.hist(var, bins=bins, histtype=\"step\", color=\"k\")\n",
    "plt.show();\n",
    "\n",
    "univ_events = np.array(univ_events)\n",
    "Covariance = np.cov(univ_events, rowvar=False)\n",
    "plt.imshow(Covariance, origin=\"lower\")\n",
    "plt.colorbar()\n",
    "plt.title(\"Covariance\")\n",
    "plt.show();\n",
    "\n",
    "corr = np.corrcoef(univ_events.T)\n",
    "plt.imshow(corr, origin=\"lower\")\n",
    "plt.colorbar()\n",
    "plt.title(\"Correlation\")\n",
    "plt.show();"
   ]
  },
  {
   "cell_type": "markdown",
   "metadata": {},
   "source": [
    "# Try Unfolding"
   ]
  },
  {
   "cell_type": "code",
   "execution_count": 19,
   "metadata": {},
   "outputs": [],
   "source": [
    "C_type = 1\n",
    "Norm_type = 2\n",
    "unfold = WienerSVD(Response, Signal, Measure, Covariance, C_type, Norm_type)"
   ]
  },
  {
   "cell_type": "code",
   "execution_count": null,
   "metadata": {},
   "outputs": [],
   "source": [
    "Unfold = unfold['unfold']\n",
    "UnfoldCov = unfold['UnfoldCov']\n",
    "plt.plot(bin_centers, Unfold, 'o', label='Unfolded')\n",
    "plt.plot(bin_centers, Measure, 'o', label='Measured')\n",
    "plt.plot(bin_centers, Signal, 'o', label='Signal')\n",
    "plt.legend()\n",
    "plt.show()"
   ]
  },
  {
   "cell_type": "code",
   "execution_count": null,
   "metadata": {},
   "outputs": [],
   "source": []
  }
 ],
 "metadata": {
  "kernelspec": {
   "display_name": "env",
   "language": "python",
   "name": "python3"
  },
  "language_info": {
   "codemirror_mode": {
    "name": "ipython",
    "version": 3
   },
   "file_extension": ".py",
   "mimetype": "text/x-python",
   "name": "python",
   "nbconvert_exporter": "python",
   "pygments_lexer": "ipython3",
   "version": "3.9.21"
  }
 },
 "nbformat": 4,
 "nbformat_minor": 2
}
